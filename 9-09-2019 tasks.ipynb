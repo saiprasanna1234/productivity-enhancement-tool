{
 "cells": [
  {
   "cell_type": "markdown",
   "metadata": {},
   "source": [
    " ## task1 : print the names which name ends with 'u' character\n",
    " # sample output : raghu babu"
   ]
  },
  {
   "cell_type": "code",
   "execution_count": 1,
   "metadata": {},
   "outputs": [
    {
     "name": "stdout",
     "output_type": "stream",
     "text": [
      "raghu babu "
     ]
    }
   ],
   "source": [
    "names = \"mahesh ravi raghu krish babu\"\n",
    "names_list = names.split(\" \")\n",
    "for name in names_list:\n",
    "    if (name.endswith('u')):\n",
    "        print(name,end=\" \")"
   ]
  },
  {
   "cell_type": "code",
   "execution_count": 2,
   "metadata": {},
   "outputs": [
    {
     "name": "stdout",
     "output_type": "stream",
     "text": [
      "raghu babu "
     ]
    }
   ],
   "source": [
    "names = \"mahesh ravi raghu krish babu\"\n",
    "n_list=names.split(\" \")\n",
    "for name in n_list:\n",
    "    if(name.endswith('u')):\n",
    "        print(name,end=\" \")"
   ]
  },
  {
   "cell_type": "markdown",
   "metadata": {},
   "source": [
    "##  task3: print the name with vowels(a,e,i,o,u)\n",
    "# sample output : ravi raghu babu"
   ]
  },
  {
   "cell_type": "code",
   "execution_count": 3,
   "metadata": {},
   "outputs": [
    {
     "name": "stdout",
     "output_type": "stream",
     "text": [
      "ravi raghu babu "
     ]
    }
   ],
   "source": [
    "names = \"mahesh ravi raghu krish babu\"\n",
    "for name in n_list:\n",
    "    if(name.endswith('a')):\n",
    "        print(name,end=\" \")\n",
    "    elif(name.endswith('e')):\n",
    "        print(name,end=\" \")\n",
    "    elif(name.endswith('i')):\n",
    "        print(name,end=\" \")\n",
    "    elif(name.endswith('o')):\n",
    "        print(name,end=\" \")\n",
    "    elif(name.endswith('u')):\n",
    "        print(name,end=\" \")"
   ]
  },
  {
   "cell_type": "markdown",
   "metadata": {},
   "source": [
    "# task2: print the name which length has maximum\n",
    "## sample output: mahesh"
   ]
  },
  {
   "cell_type": "code",
   "execution_count": 4,
   "metadata": {},
   "outputs": [
    {
     "name": "stdout",
     "output_type": "stream",
     "text": [
      "mahesh\n",
      "mahesh\n"
     ]
    }
   ],
   "source": [
    "n=input()\n",
    "names=n.split()\n",
    "high=\" \"\n",
    "for name in names:\n",
    "    if len(name)>len(high):\n",
    "        high=name\n",
    "print(high)"
   ]
  },
  {
   "cell_type": "markdown",
   "metadata": {},
   "source": [
    "# task4:palindrome string:need to find and print whether \n",
    "## this string is a palindrome or not.if yes,print \"yes\"\n",
    "## else print \"no\"(strings)"
   ]
  },
  {
   "cell_type": "code",
   "execution_count": 5,
   "metadata": {},
   "outputs": [
    {
     "name": "stdout",
     "output_type": "stream",
     "text": [
      "lol\n",
      "yes\n"
     ]
    }
   ],
   "source": [
    "s1=input()\n",
    "s2=s1[::-1]\n",
    "if(s1==s2):\n",
    "    print(\"yes\")\n",
    "else:\n",
    "    print(\"no\")"
   ]
  },
  {
   "cell_type": "markdown",
   "metadata": {},
   "source": [
    "# task5:toggle string:you have been given a string s\n",
    "# consisting of uppercase and lowercase english alphabets.\n",
    "# you need to change the case of each alphabet\n",
    "# in this string(strings)\n",
    "# sample input:HeLlo\n",
    "# sample output:hElLO\n"
   ]
  },
  {
   "cell_type": "code",
   "execution_count": 6,
   "metadata": {},
   "outputs": [
    {
     "name": "stdout",
     "output_type": "stream",
     "text": [
      "HeLlo\n",
      "h"
     ]
    }
   ],
   "source": [
    "n=input()\n",
    "l=len(n)\n",
    "for i in range(0,1):\n",
    "    if(ord(n[i])>=65 and ord(n[i])<=90):\n",
    "     print(chr(ord(n[i])+32),end=\"\")\n",
    "    else:\n",
    "     print(chr(ord(n[i])-32),end=\"\")\n",
    "    "
   ]
  },
  {
   "cell_type": "code",
   "execution_count": null,
   "metadata": {},
   "outputs": [],
   "source": [
    "# task6:\n",
    "## two strings: give two strings of equal length,you have to tell whether they both strings are identical.\n",
    "## input format:abc cab\n",
    "## output format:\"yes\""
   ]
  }
 ],
 "metadata": {
  "kernelspec": {
   "display_name": "Python 3",
   "language": "python",
   "name": "python3"
  },
  "language_info": {
   "codemirror_mode": {
    "name": "ipython",
    "version": 3
   },
   "file_extension": ".py",
   "mimetype": "text/x-python",
   "name": "python",
   "nbconvert_exporter": "python",
   "pygments_lexer": "ipython3",
   "version": "3.7.3"
  }
 },
 "nbformat": 4,
 "nbformat_minor": 2
}

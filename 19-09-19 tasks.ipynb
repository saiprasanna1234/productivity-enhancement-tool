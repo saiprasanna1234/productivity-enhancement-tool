{
 "cells": [
  {
   "cell_type": "markdown",
   "metadata": {},
   "source": [
    "#### Question -1:\n",
    "#### write a program to print the next character of given string except z(z is same as z)\n",
    "#### Input Format:\n",
    "#### hello\n",
    "#### Output Format:\n",
    "#### ifmmp"
   ]
  },
  {
   "cell_type": "code",
   "execution_count": 7,
   "metadata": {},
   "outputs": [
    {
     "name": "stdout",
     "output_type": "stream",
     "text": [
      "hello\n",
      "ifmmp"
     ]
    }
   ],
   "source": [
    "#solution\n",
    "s=input()\n",
    "for i in s:\n",
    "    a=chr(ord(i)+1)\n",
    "    print(a,end=\"\")\n"
   ]
  }
 ],
 "metadata": {
  "kernelspec": {
   "display_name": "Python 3",
   "language": "python",
   "name": "python3"
  },
  "language_info": {
   "codemirror_mode": {
    "name": "ipython",
    "version": 3
   },
   "file_extension": ".py",
   "mimetype": "text/x-python",
   "name": "python",
   "nbconvert_exporter": "python",
   "pygments_lexer": "ipython3",
   "version": "3.7.3"
  }
 },
 "nbformat": 4,
 "nbformat_minor": 2
}
